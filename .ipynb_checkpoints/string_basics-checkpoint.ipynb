{
 "cells": [
  {
   "cell_type": "markdown",
   "metadata": {
    "deletable": false,
    "editable": false,
    "run_control": {
     "frozen": true
    }
   },
   "source": [
    "![Imgur](https://i.imgur.com/m0Nxl3L.png)\n",
    "\n",
    "# Lesson 1.0: String Basics\n",
    "\n",
    "## Objectives:\n",
    "\n",
    "> - Create strings in Python.\n",
    "> - Use variables to represent strings.\n",
    "\n",
    "---\n",
    "\n",
    "## Creating Strings\n",
    "\n",
    "**Strings** or **string literals** are a sequence or characters. They are usually used to represent human language, file names, web addresses, etc. Things that are non-numeric sequences of characters are usually strings, but it is possible for a sequence of numeric characters to be a string as well. Stings in Python are created with either single quotes (`' '`) or double quotes (`\" \"`). You will definitely see them both ways. Some people prefer to use single quotes as it is one less key stroke. Here are some examples of strings:\n",
    "\n",
    "- `'We are leaning Python'`\n",
    "- `\"Python is the 3rd most popular programming language.\"`\n",
    "- `'a'`\n",
    "- `'main.py'`\n",
    "- `\"https://www.google.com/\"`\n",
    "- `'3.141592653589793238462643383279'`\n",
    "- `\" \"`\n",
    "\n",
    "Notice how the examples above are a sequence of characters between either `' '` or `\" \"`. The first two examples are sentences. The third is a single character. The fourth example is a file name. The fifth is the URL to Google. And even though the sixth example may appear to be numeric, it is also a string. The final string example is just a space. Even though this may not seem like a character, Python recognizes it as a character. This is an example of what is known as **whitespace**. Whitespace will be covered more in the subsequent lessons. \n",
    "\n",
    "As mentioned previously, it does not matter if `' '` is used or `\" \"` are used. Python will interpret them the same way. In fact it does not affect the string between the two types of quotes mention. We can test two strings using the **equality operator** (`==`) to determine if the they are the same or equal. Type the following in the code cell below:\n",
    "\n",
    "```python\n",
    "'Python' == \"Python\"\n",
    "```"
   ]
  },
  {
   "cell_type": "code",
   "execution_count": null,
   "metadata": {},
   "outputs": [],
   "source": []
  },
  {
   "cell_type": "markdown",
   "metadata": {
    "deletable": false,
    "editable": false,
    "run_control": {
     "frozen": true
    }
   },
   "source": [
    "The interpreter will output `True`, because the strings are identical between the two different quotes. Now try to input the following in the code cell below:\n",
    "\n",
    "```python\n",
    "'Python' == \"python\"\n",
    "```"
   ]
  },
  {
   "cell_type": "code",
   "execution_count": null,
   "metadata": {},
   "outputs": [],
   "source": []
  },
  {
   "cell_type": "markdown",
   "metadata": {
    "deletable": false,
    "editable": false,
    "run_control": {
     "frozen": true
    }
   },
   "source": [
    "The interpreter will output `False`, because the first string has a capital `P` and the second string has a lowercase `p`. So even though both strings say 'Python', Python can determine that there is a difference.\n",
    "\n",
    "---\n",
    "\n",
    "## Variables\n",
    "\n",
    "When you create an object such as a string in Python, it is stored somewhere on the memory. **Variables** give you a way to access the string so it can be used again. You can create variables that point to strings using the assignment operator `=`. Variables are created as follows:\n",
    "\n",
    "```python\n",
    "first_name = 'Bob'\n",
    "```\n",
    "\n",
    "You can now print the name 'Bob' using the variable instead of the string.\n",
    "\n",
    "```python\n",
    "first_name = 'Bob'\n",
    "print(name)\n",
    "```\n",
    "\n",
    "Choosing variable names has limitations: \n",
    "\n",
    "| Limitation                                                   | Good                            | Bad             |\n",
    "| ------------------------------------------------------------ | ------------------------------- | --------------- |\n",
    "| Variables cannot begin with a number.                        | `name1`                         | `1name`         |\n",
    "| Variables cannot have special characters <br />other than an underscore (`_`). | `first_name`-                   | `first-name`   |\n",
    "| Variables cannot have whitespace.                            | `favorite_food`, `favoriteFood` | `favorite food` |\n",
    "\n",
    "In addition to the limitations above, variables cannot be named using one of the **reserve words** or **keywords** in Python. These words have a special meaning in Python. Here is a list of these words:\n",
    "\n",
    "``` \n",
    "and            continue       finally        is             raise\n",
    "as             def            for            lamda          return\n",
    "assert         del            from           None           True\n",
    "async          elif           global         nonlocal       try\n",
    "await          else           if             not            while\n",
    "break          except         import         or             with\n",
    "class          False          in             pass           yield\n",
    "```\n",
    "\n",
    "To see the list of keywords type the following two commands in a code cell."
   ]
  },
  {
   "cell_type": "code",
   "execution_count": null,
   "metadata": {
    "deletable": false,
    "editable": false,
    "scrolled": true
   },
   "outputs": [],
   "source": [
    "import keyword\n",
    "keyword.kwlist"
   ]
  },
  {
   "cell_type": "markdown",
   "metadata": {
    "deletable": false,
    "editable": false,
    "run_control": {
     "frozen": true
    }
   },
   "source": [
    "There are also a couple of things that should be avoided for a more pythonic style. The following is allowed but are typically used for purposes that are beyond the scope of this lesson.\n",
    "\n",
    "- Avoid using all capitals. (i.e. `FIRST_NAME`)\n",
    "- Avoid using a capital letter at the beginning. (i.e. `Favorite_food`)\n",
    "\n",
    "---\n",
    "\n",
    "\n",
    "# Lab 1.0: String Basics\n",
    "\n",
    "Write a program that describes AND prints five things about yourself using five variables using five `print()` functions.\n",
    "\n",
    "Here is an example program:\n",
    "\n",
    "```python\n",
    "# Declare five variables with strings that describe yourself.\n",
    "name = 'My name is Simon Escalada-Mastick.'\n",
    "degrees = 'I studied linguistics and mathematics in college.'\n",
    "occupation = 'I am a data analyst and teacher at HPLS.'\n",
    "city = 'I live in Tucson, Arizona.'\n",
    "favorite_restaurant = 'My favorite restaurant in Tucson is Yoshimatsu.'\n",
    "\n",
    "# Print the five variables.\n",
    "print(name)\n",
    "print(degrees)\n",
    "print(occupation)\n",
    "print(city)\n",
    "print(favorite_restaurant)\n",
    "```\n",
    "\n",
    "**Turn in this `string_basics.ipynb` file in Google Classroom and for full credit.**"
   ]
  },
  {
   "cell_type": "code",
   "execution_count": null,
   "metadata": {},
   "outputs": [],
   "source": [
    "# Declare FIVE variables with strings that describe yourself.\n",
    "\n",
    "\n",
    "# Print the five variables.\n"
   ]
  }
 ],
 "metadata": {
  "kernelspec": {
   "display_name": "Python 3",
   "language": "python",
   "name": "python3"
  },
  "language_info": {
   "codemirror_mode": {
    "name": "ipython",
    "version": 3
   },
   "file_extension": ".py",
   "mimetype": "text/x-python",
   "name": "python",
   "nbconvert_exporter": "python",
   "pygments_lexer": "ipython3",
   "version": "3.8.3"
  }
 },
 "nbformat": 4,
 "nbformat_minor": 4
}
